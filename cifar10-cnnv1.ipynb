{
 "cells": [
  {
   "cell_type": "code",
   "execution_count": 1,
   "id": "d99f4167",
   "metadata": {
    "_cell_guid": "b1076dfc-b9ad-4769-8c92-a6c4dae69d19",
    "_uuid": "8f2839f25d086af736a60e9eeb907d3b93b6e0e5",
    "execution": {
     "iopub.execute_input": "2022-09-26T12:38:00.030408Z",
     "iopub.status.busy": "2022-09-26T12:38:00.029920Z",
     "iopub.status.idle": "2022-09-26T12:38:05.244716Z",
     "shell.execute_reply": "2022-09-26T12:38:05.243662Z"
    },
    "papermill": {
     "duration": 5.225578,
     "end_time": "2022-09-26T12:38:05.247345",
     "exception": false,
     "start_time": "2022-09-26T12:38:00.021767",
     "status": "completed"
    },
    "tags": []
   },
   "outputs": [
    {
     "name": "stdout",
     "output_type": "stream",
     "text": [
      "/kaggle/input/cifar-10/trainLabels.csv\n",
      "/kaggle/input/cifar-10/sampleSubmission.csv\n",
      "/kaggle/input/cifar-10/test.7z\n",
      "/kaggle/input/cifar-10/train.7z\n"
     ]
    }
   ],
   "source": [
    "# This Python 3 environment comes with many helpful analytics libraries installed\n",
    "# It is defined by the kaggle/python Docker image: https://github.com/kaggle/docker-python\n",
    "# For example, here's several helpful packages to load\n",
    "\n",
    "import numpy as np # linear algebra\n",
    "import pandas as pd # data processing, CSV file I/O (e.g. pd.read_csv)\n",
    "\n",
    "# Import TensorFlow\n",
    "import tensorflow as tf\n",
    "\n",
    "# Import Numpy and Matplotlib\n",
    "import numpy as np\n",
    "import matplotlib.pyplot as plt\n",
    "\n",
    "from keras.preprocessing.image import ImageDataGenerator\n",
    "\n",
    "# Input data files are available in the read-only \"../input/\" directory\n",
    "# For example, running this (by clicking run or pressing Shift+Enter) will list all files under the input directory\n",
    "\n",
    "import os\n",
    "for dirname, _, filenames in os.walk('/kaggle/input'):\n",
    "    for filename in filenames:\n",
    "        print(os.path.join(dirname, filename))\n",
    "\n",
    "# You can write up to 20GB to the current directory (/kaggle/working/) that gets preserved as output when you create a version using \"Save & Run All\" \n",
    "# You can also write temporary files to /kaggle/temp/, but they won't be saved outside of the current session"
   ]
  },
  {
   "cell_type": "code",
   "execution_count": 2,
   "id": "e834875f",
   "metadata": {
    "execution": {
     "iopub.execute_input": "2022-09-26T12:38:05.261311Z",
     "iopub.status.busy": "2022-09-26T12:38:05.260248Z",
     "iopub.status.idle": "2022-09-26T12:38:19.679029Z",
     "shell.execute_reply": "2022-09-26T12:38:19.677910Z"
    },
    "papermill": {
     "duration": 14.428383,
     "end_time": "2022-09-26T12:38:19.681719",
     "exception": false,
     "start_time": "2022-09-26T12:38:05.253336",
     "status": "completed"
    },
    "tags": []
   },
   "outputs": [
    {
     "name": "stdout",
     "output_type": "stream",
     "text": [
      "Collecting py7zr\r\n",
      "  Downloading py7zr-0.20.0-py3-none-any.whl (64 kB)\r\n",
      "\u001b[2K     \u001b[90m━━━━━━━━━━━━━━━━━━━━━━━━━━━━━━━━━━━━━━━\u001b[0m \u001b[32m65.0/65.0 kB\u001b[0m \u001b[31m658.1 kB/s\u001b[0m eta \u001b[36m0:00:00\u001b[0m\r\n",
      "\u001b[?25hRequirement already satisfied: texttable in /opt/conda/lib/python3.7/site-packages (from py7zr) (1.6.4)\r\n",
      "Collecting pyzstd>=0.14.4\r\n",
      "  Downloading pyzstd-0.15.3-cp37-cp37m-manylinux_2_17_x86_64.manylinux2014_x86_64.whl (379 kB)\r\n",
      "\u001b[2K     \u001b[90m━━━━━━━━━━━━━━━━━━━━━━━━━━━━━━━━━━━━━━━\u001b[0m \u001b[32m379.2/379.2 kB\u001b[0m \u001b[31m2.4 MB/s\u001b[0m eta \u001b[36m0:00:00\u001b[0m\r\n",
      "\u001b[?25hCollecting pycryptodomex>=3.6.6\r\n",
      "  Downloading pycryptodomex-3.15.0-cp35-abi3-manylinux2010_x86_64.whl (2.3 MB)\r\n",
      "\u001b[2K     \u001b[90m━━━━━━━━━━━━━━━━━━━━━━━━━━━━━━━━━━━━━━━━\u001b[0m \u001b[32m2.3/2.3 MB\u001b[0m \u001b[31m13.2 MB/s\u001b[0m eta \u001b[36m0:00:00\u001b[0m\r\n",
      "\u001b[?25hCollecting pyppmd<0.19.0,>=0.18.1\r\n",
      "  Downloading pyppmd-0.18.3-cp37-cp37m-manylinux_2_17_x86_64.manylinux2014_x86_64.whl (138 kB)\r\n",
      "\u001b[2K     \u001b[90m━━━━━━━━━━━━━━━━━━━━━━━━━━━━━━━━━━━━━━\u001b[0m \u001b[32m138.6/138.6 kB\u001b[0m \u001b[31m12.9 MB/s\u001b[0m eta \u001b[36m0:00:00\u001b[0m\r\n",
      "\u001b[?25hRequirement already satisfied: psutil in /opt/conda/lib/python3.7/site-packages (from py7zr) (5.9.1)\r\n",
      "Collecting inflate64>=0.3.0\r\n",
      "  Downloading inflate64-0.3.0-cp37-cp37m-manylinux_2_17_x86_64.manylinux2014_x86_64.whl (92 kB)\r\n",
      "\u001b[2K     \u001b[90m━━━━━━━━━━━━━━━━━━━━━━━━━━━━━━━━━━━━━━━━\u001b[0m \u001b[32m92.1/92.1 kB\u001b[0m \u001b[31m8.9 MB/s\u001b[0m eta \u001b[36m0:00:00\u001b[0m\r\n",
      "\u001b[?25hCollecting brotli>=1.0.9\r\n",
      "  Downloading Brotli-1.0.9-cp37-cp37m-manylinux1_x86_64.whl (357 kB)\r\n",
      "\u001b[2K     \u001b[90m━━━━━━━━━━━━━━━━━━━━━━━━━━━━━━━━━━━━━━\u001b[0m \u001b[32m357.2/357.2 kB\u001b[0m \u001b[31m27.1 MB/s\u001b[0m eta \u001b[36m0:00:00\u001b[0m\r\n",
      "\u001b[?25hCollecting pybcj>=0.6.0\r\n",
      "  Downloading pybcj-1.0.1-cp37-cp37m-manylinux_2_17_x86_64.manylinux2014_x86_64.whl (50 kB)\r\n",
      "\u001b[2K     \u001b[90m━━━━━━━━━━━━━━━━━━━━━━━━━━━━━━━━━━━━━━━━\u001b[0m \u001b[32m50.5/50.5 kB\u001b[0m \u001b[31m4.4 MB/s\u001b[0m eta \u001b[36m0:00:00\u001b[0m\r\n",
      "\u001b[?25hRequirement already satisfied: importlib-metadata in /opt/conda/lib/python3.7/site-packages (from py7zr) (4.12.0)\r\n",
      "Collecting multivolumefile>=0.2.3\r\n",
      "  Downloading multivolumefile-0.2.3-py3-none-any.whl (17 kB)\r\n",
      "Requirement already satisfied: zipp>=0.5 in /opt/conda/lib/python3.7/site-packages (from importlib-metadata->py7zr) (3.8.0)\r\n",
      "Requirement already satisfied: typing-extensions>=3.6.4 in /opt/conda/lib/python3.7/site-packages (from importlib-metadata->py7zr) (4.3.0)\r\n",
      "Installing collected packages: brotli, pyzstd, pyppmd, pycryptodomex, multivolumefile, pybcj, inflate64, py7zr\r\n",
      "Successfully installed brotli-1.0.9 inflate64-0.3.0 multivolumefile-0.2.3 py7zr-0.20.0 pybcj-1.0.1 pycryptodomex-3.15.0 pyppmd-0.18.3 pyzstd-0.15.3\r\n",
      "\u001b[33mWARNING: Running pip as the 'root' user can result in broken permissions and conflicting behaviour with the system package manager. It is recommended to use a virtual environment instead: https://pip.pypa.io/warnings/venv\u001b[0m\u001b[33m\r\n",
      "\u001b[0m"
     ]
    }
   ],
   "source": [
    "!pip install py7zr"
   ]
  },
  {
   "cell_type": "code",
   "execution_count": 3,
   "id": "f7fe1905",
   "metadata": {
    "execution": {
     "iopub.execute_input": "2022-09-26T12:38:19.698200Z",
     "iopub.status.busy": "2022-09-26T12:38:19.697848Z",
     "iopub.status.idle": "2022-09-26T12:39:05.269527Z",
     "shell.execute_reply": "2022-09-26T12:39:05.268169Z"
    },
    "papermill": {
     "duration": 45.582486,
     "end_time": "2022-09-26T12:39:05.272014",
     "exception": false,
     "start_time": "2022-09-26T12:38:19.689528",
     "status": "completed"
    },
    "tags": []
   },
   "outputs": [],
   "source": [
    "!python -m py7zr x ../input/cifar-10/train.7z"
   ]
  },
  {
   "cell_type": "code",
   "execution_count": 4,
   "id": "19b02e99",
   "metadata": {
    "execution": {
     "iopub.execute_input": "2022-09-26T12:39:05.288085Z",
     "iopub.status.busy": "2022-09-26T12:39:05.287717Z",
     "iopub.status.idle": "2022-09-26T12:39:05.430518Z",
     "shell.execute_reply": "2022-09-26T12:39:05.429104Z"
    },
    "papermill": {
     "duration": 0.15353,
     "end_time": "2022-09-26T12:39:05.433027",
     "exception": false,
     "start_time": "2022-09-26T12:39:05.279497",
     "status": "completed"
    },
    "tags": []
   },
   "outputs": [
    {
     "name": "stdout",
     "output_type": "stream",
     "text": [
      "(50000,)\n",
      "(300000, 2)\n"
     ]
    }
   ],
   "source": [
    "y_train = pd.read_csv('/kaggle/input/cifar-10/trainLabels.csv')\n",
    "y_test = pd.read_csv('/kaggle/input/cifar-10/sampleSubmission.csv')\n",
    "\n",
    "y_train = np.array(y_train['label'])\n",
    "#Y_test = np.array(y_test['label'])\n",
    "print(y_train.shape)\n",
    "print(y_test.shape)"
   ]
  },
  {
   "cell_type": "code",
   "execution_count": 5,
   "id": "9a6c9dcb",
   "metadata": {
    "execution": {
     "iopub.execute_input": "2022-09-26T12:39:05.450122Z",
     "iopub.status.busy": "2022-09-26T12:39:05.448442Z",
     "iopub.status.idle": "2022-09-26T12:39:14.156241Z",
     "shell.execute_reply": "2022-09-26T12:39:14.154682Z"
    },
    "papermill": {
     "duration": 8.718044,
     "end_time": "2022-09-26T12:39:14.158458",
     "exception": false,
     "start_time": "2022-09-26T12:39:05.440414",
     "status": "completed"
    },
    "tags": []
   },
   "outputs": [
    {
     "name": "stdout",
     "output_type": "stream",
     "text": [
      "X.shape : (50000, 32, 32, 3) y.shape : (50000,)\n",
      "X.shape : (0,) y.shape : (300000, 2)\n"
     ]
    }
   ],
   "source": [
    "import glob\n",
    "from PIL import Image\n",
    "filelist = glob.glob(\"train/*\")\n",
    "filelist = sorted(filelist,key= lambda x:int(x.split(\"/\")[-1].split(\".\")[0]))\n",
    "x_train = np.array([np.array(Image.open(fname)) for fname in filelist])\n",
    "print(f\"X.shape : {x_train.shape} y.shape : {y_train.shape}\")\n",
    "\n",
    "filelist = glob.glob(\"test/*\")\n",
    "filelist = sorted(filelist,key= lambda x:int(x.split(\"/\")[-1].split(\".\")[0]))\n",
    "x_test = np.array([np.array(Image.open(fname)) for fname in filelist])\n",
    "print(f\"X.shape : {x_test.shape} y.shape : {y_test.shape}\")"
   ]
  },
  {
   "cell_type": "code",
   "execution_count": 6,
   "id": "21a7a864",
   "metadata": {
    "execution": {
     "iopub.execute_input": "2022-09-26T12:39:14.175020Z",
     "iopub.status.busy": "2022-09-26T12:39:14.174192Z",
     "iopub.status.idle": "2022-09-26T12:39:14.184743Z",
     "shell.execute_reply": "2022-09-26T12:39:14.183824Z"
    },
    "papermill": {
     "duration": 0.02094,
     "end_time": "2022-09-26T12:39:14.186756",
     "exception": false,
     "start_time": "2022-09-26T12:39:14.165816",
     "status": "completed"
    },
    "tags": []
   },
   "outputs": [
    {
     "data": {
      "text/plain": [
       "array([[[127, 126, 129],\n",
       "        [148, 144, 144],\n",
       "        [192, 181, 175],\n",
       "        ...,\n",
       "        [112, 102,  98],\n",
       "        [144, 135, 123],\n",
       "        [153, 142, 130]],\n",
       "\n",
       "       [[ 89,  90,  94],\n",
       "        [111, 110, 116],\n",
       "        [151, 141, 137],\n",
       "        ...,\n",
       "        [161, 152, 129],\n",
       "        [166, 158, 132],\n",
       "        [163, 154, 128]],\n",
       "\n",
       "       [[ 98,  94,  94],\n",
       "        [ 94,  94,  99],\n",
       "        [110, 109, 118],\n",
       "        ...,\n",
       "        [173, 159, 132],\n",
       "        [169, 154, 129],\n",
       "        [173, 157, 132]],\n",
       "\n",
       "       ...,\n",
       "\n",
       "       [[156, 152, 115],\n",
       "        [151, 145, 107],\n",
       "        [149, 144, 104],\n",
       "        ...,\n",
       "        [150, 144, 110],\n",
       "        [149, 148, 114],\n",
       "        [142, 143, 104]],\n",
       "\n",
       "       [[163, 158, 122],\n",
       "        [162, 155, 120],\n",
       "        [161, 151, 118],\n",
       "        ...,\n",
       "        [135, 131,  99],\n",
       "        [141, 137, 109],\n",
       "        [138, 134, 103]],\n",
       "\n",
       "       [[160, 152, 122],\n",
       "        [160, 151, 120],\n",
       "        [163, 153, 120],\n",
       "        ...,\n",
       "        [138, 121, 103],\n",
       "        [143, 131, 107],\n",
       "        [151, 135, 117]]], dtype=uint8)"
      ]
     },
     "execution_count": 6,
     "metadata": {},
     "output_type": "execute_result"
    }
   ],
   "source": [
    "x_train[42]"
   ]
  },
  {
   "cell_type": "code",
   "execution_count": 7,
   "id": "2f8e6689",
   "metadata": {
    "execution": {
     "iopub.execute_input": "2022-09-26T12:39:14.204159Z",
     "iopub.status.busy": "2022-09-26T12:39:14.203874Z",
     "iopub.status.idle": "2022-09-26T12:39:14.404032Z",
     "shell.execute_reply": "2022-09-26T12:39:14.403238Z"
    },
    "papermill": {
     "duration": 0.212216,
     "end_time": "2022-09-26T12:39:14.406299",
     "exception": false,
     "start_time": "2022-09-26T12:39:14.194083",
     "status": "completed"
    },
    "tags": []
   },
   "outputs": [
    {
     "data": {
      "image/png": "[encoded data removed]",
      "text/plain": [
       "<Figure size 432x288 with 1 Axes>"
      ]
     },
     "metadata": {
      "needs_background": "light"
     },
     "output_type": "display_data"
    },
    {
     "data": {
      "text/plain": [
       "(32, 32, 3)"
      ]
     },
     "execution_count": 7,
     "metadata": {},
     "output_type": "execute_result"
    }
   ],
   "source": [
    "# Use the .imshow() function and show the plot\n",
    "plt.imshow(x_train[42])\n",
    "plt.show()\n",
    "# Print the shape of the sample image\n",
    "x_train[42].shape # RGB images have 3 channels "
   ]
  },
  {
   "cell_type": "code",
   "execution_count": 8,
   "id": "2a221596",
   "metadata": {
    "execution": {
     "iopub.execute_input": "2022-09-26T12:39:14.423541Z",
     "iopub.status.busy": "2022-09-26T12:39:14.423276Z",
     "iopub.status.idle": "2022-09-26T12:39:14.427683Z",
     "shell.execute_reply": "2022-09-26T12:39:14.426886Z"
    },
    "papermill": {
     "duration": 0.014811,
     "end_time": "2022-09-26T12:39:14.429659",
     "exception": false,
     "start_time": "2022-09-26T12:39:14.414848",
     "status": "completed"
    },
    "tags": []
   },
   "outputs": [],
   "source": [
    "# Create the validation datasets \n",
    "# and assign the last 10000 images of X_train and y_train\n",
    "x_val = x_train[40000:]\n",
    "y_val = y_train[40000:]\n",
    "# Create new train datasets\n",
    "# and assign the first 40000 images of X_train and y_train\n",
    "x_train = x_train[:40000]\n",
    "y_train = y_train[:40000]"
   ]
  },
  {
   "cell_type": "code",
   "execution_count": 9,
   "id": "3a4cd9ea",
   "metadata": {
    "execution": {
     "iopub.execute_input": "2022-09-26T12:39:14.445921Z",
     "iopub.status.busy": "2022-09-26T12:39:14.445660Z",
     "iopub.status.idle": "2022-09-26T12:39:14.451290Z",
     "shell.execute_reply": "2022-09-26T12:39:14.450388Z"
    },
    "papermill": {
     "duration": 0.016815,
     "end_time": "2022-09-26T12:39:14.453905",
     "exception": false,
     "start_time": "2022-09-26T12:39:14.437090",
     "status": "completed"
    },
    "tags": []
   },
   "outputs": [
    {
     "name": "stdout",
     "output_type": "stream",
     "text": [
      "X Train Length: 40000\n",
      "X Test Length: 0\n",
      "X Val Length: 10000\n",
      "Y Train Length: 40000\n",
      "Y Test Length: 300000\n",
      "Y Val Length: 10000\n"
     ]
    }
   ],
   "source": [
    "print(\"X Train Length:\", len(x_train))\n",
    "print(\"X Test Length:\", len(x_test))\n",
    "print(\"X Val Length:\", len(x_val))\n",
    "print(\"Y Train Length:\", len(y_train))\n",
    "print(\"Y Test Length:\", len(y_test))\n",
    "print(\"Y Val Length:\", len(y_val))"
   ]
  },
  {
   "cell_type": "code",
   "execution_count": 10,
   "id": "8570407a",
   "metadata": {
    "execution": {
     "iopub.execute_input": "2022-09-26T12:39:14.471730Z",
     "iopub.status.busy": "2022-09-26T12:39:14.470970Z",
     "iopub.status.idle": "2022-09-26T12:39:14.852423Z",
     "shell.execute_reply": "2022-09-26T12:39:14.851414Z"
    },
    "papermill": {
     "duration": 0.392756,
     "end_time": "2022-09-26T12:39:14.855229",
     "exception": false,
     "start_time": "2022-09-26T12:39:14.462473",
     "status": "completed"
    },
    "tags": []
   },
   "outputs": [],
   "source": [
    "# Divide each dataset by 255\n",
    "x_train = x_train / 255\n",
    "x_val = x_val / 255"
   ]
  },
  {
   "cell_type": "code",
   "execution_count": 11,
   "id": "59778618",
   "metadata": {
    "execution": {
     "iopub.execute_input": "2022-09-26T12:39:14.873584Z",
     "iopub.status.busy": "2022-09-26T12:39:14.873273Z",
     "iopub.status.idle": "2022-09-26T12:39:18.140127Z",
     "shell.execute_reply": "2022-09-26T12:39:18.138001Z"
    },
    "papermill": {
     "duration": 3.278429,
     "end_time": "2022-09-26T12:39:18.142457",
     "exception": false,
     "start_time": "2022-09-26T12:39:14.864028",
     "status": "completed"
    },
    "tags": []
   },
   "outputs": [
    {
     "name": "stderr",
     "output_type": "stream",
     "text": [
      "2022-09-26 12:39:15.249848: I tensorflow/stream_executor/cuda/cuda_gpu_executor.cc:937] successful NUMA node read from SysFS had negative value (-1), but there must be at least one NUMA node, so returning NUMA node zero\n",
      "2022-09-26 12:39:15.348643: I tensorflow/stream_executor/cuda/cuda_gpu_executor.cc:937] successful NUMA node read from SysFS had negative value (-1), but there must be at least one NUMA node, so returning NUMA node zero\n",
      "2022-09-26 12:39:15.349533: I tensorflow/stream_executor/cuda/cuda_gpu_executor.cc:937] successful NUMA node read from SysFS had negative value (-1), but there must be at least one NUMA node, so returning NUMA node zero\n",
      "2022-09-26 12:39:15.351338: I tensorflow/core/platform/cpu_feature_guard.cc:142] This TensorFlow binary is optimized with oneAPI Deep Neural Network Library (oneDNN) to use the following CPU instructions in performance-critical operations:  AVX2 AVX512F FMA\n",
      "To enable them in other operations, rebuild TensorFlow with the appropriate compiler flags.\n",
      "2022-09-26 12:39:15.351625: I tensorflow/stream_executor/cuda/cuda_gpu_executor.cc:937] successful NUMA node read from SysFS had negative value (-1), but there must be at least one NUMA node, so returning NUMA node zero\n",
      "2022-09-26 12:39:15.352353: I tensorflow/stream_executor/cuda/cuda_gpu_executor.cc:937] successful NUMA node read from SysFS had negative value (-1), but there must be at least one NUMA node, so returning NUMA node zero\n",
      "2022-09-26 12:39:15.352980: I tensorflow/stream_executor/cuda/cuda_gpu_executor.cc:937] successful NUMA node read from SysFS had negative value (-1), but there must be at least one NUMA node, so returning NUMA node zero\n",
      "2022-09-26 12:39:17.689377: I tensorflow/stream_executor/cuda/cuda_gpu_executor.cc:937] successful NUMA node read from SysFS had negative value (-1), but there must be at least one NUMA node, so returning NUMA node zero\n",
      "2022-09-26 12:39:17.690513: I tensorflow/stream_executor/cuda/cuda_gpu_executor.cc:937] successful NUMA node read from SysFS had negative value (-1), but there must be at least one NUMA node, so returning NUMA node zero\n",
      "2022-09-26 12:39:17.691432: I tensorflow/stream_executor/cuda/cuda_gpu_executor.cc:937] successful NUMA node read from SysFS had negative value (-1), but there must be at least one NUMA node, so returning NUMA node zero\n",
      "2022-09-26 12:39:17.692317: I tensorflow/core/common_runtime/gpu/gpu_device.cc:1510] Created device /job:localhost/replica:0/task:0/device:GPU:0 with 15401 MB memory:  -> device: 0, name: Tesla P100-PCIE-16GB, pci bus id: 0000:00:04.0, compute capability: 6.0\n"
     ]
    }
   ],
   "source": [
    "# Create a model object\n",
    "model = tf.keras.Sequential()"
   ]
  },
  {
   "cell_type": "code",
   "execution_count": 12,
   "id": "dff8e4c9",
   "metadata": {
    "execution": {
     "iopub.execute_input": "2022-09-26T12:39:18.166381Z",
     "iopub.status.busy": "2022-09-26T12:39:18.165946Z",
     "iopub.status.idle": "2022-09-26T12:39:18.557716Z",
     "shell.execute_reply": "2022-09-26T12:39:18.556788Z"
    },
    "papermill": {
     "duration": 0.409461,
     "end_time": "2022-09-26T12:39:18.560285",
     "exception": false,
     "start_time": "2022-09-26T12:39:18.150824",
     "status": "completed"
    },
    "tags": []
   },
   "outputs": [],
   "source": [
    "model.add(tf.keras.layers.Conv2D(64,\n",
    "                                 kernel_size=(3,3),\n",
    "                                 strides=(1,1),\n",
    "                                 padding=\"same\",\n",
    "                                 activation=\"relu\",\n",
    "                                 input_shape=(32,32,3)))\n",
    "model.add(tf.keras.layers.BatchNormalization())\n",
    "\n",
    "model.add(tf.keras.layers.Conv2D(64,\n",
    "                                 kernel_size=(3,3),\n",
    "                                 strides=(1,1),\n",
    "                                 padding=\"same\",\n",
    "                                 activation=\"relu\"))\n",
    "model.add(tf.keras.layers.BatchNormalization())\n",
    "\n",
    "model.add(tf.keras.layers.Conv2D(64,\n",
    "                                 kernel_size=(3,3),\n",
    "                                 strides=(1,1),\n",
    "                                 padding=\"same\",\n",
    "                                 activation=\"relu\"))\n",
    "model.add(tf.keras.layers.BatchNormalization())\n",
    "\n",
    "model.add(tf.keras.layers.MaxPooling2D((2,2)))\n",
    "model.add( tf.keras.layers.Dropout(0.25))\n",
    "\n",
    "model.add(tf.keras.layers.Conv2D(128,\n",
    "                                 kernel_size=(3,3),\n",
    "                                 strides=(1,1),\n",
    "                                 padding=\"same\",\n",
    "                                 activation=\"relu\"))\n",
    "model.add(tf.keras.layers.BatchNormalization())\n",
    "\n",
    "model.add(tf.keras.layers.Conv2D(128,\n",
    "                                 kernel_size=(3,3),\n",
    "                                 strides=(1,1),\n",
    "                                 padding=\"same\",\n",
    "                                 activation=\"relu\"))\n",
    "model.add(tf.keras.layers.BatchNormalization())\n",
    "\n",
    "model.add(tf.keras.layers.Conv2D(128,\n",
    "                                 kernel_size=(3,3),\n",
    "                                 strides=(1,1),\n",
    "                                 padding=\"same\",\n",
    "                                 activation=\"relu\"))\n",
    "model.add(tf.keras.layers.BatchNormalization())\n",
    "\n",
    "model.add( tf.keras.layers.Dropout(0.30))\n",
    "model.add(tf.keras.layers.MaxPooling2D((2,2)))\n",
    "\n",
    "model.add(tf.keras.layers.Conv2D(256,\n",
    "                                 kernel_size=(3,3),\n",
    "                                 strides=(1,1),\n",
    "                                 padding=\"same\",\n",
    "                                 activation=\"relu\"))\n",
    "model.add(tf.keras.layers.BatchNormalization())\n",
    "\n",
    "model.add(tf.keras.layers.Conv2D(256,\n",
    "                                 kernel_size=(3,3),\n",
    "                                 strides=(1,1),\n",
    "                                 padding=\"same\",\n",
    "                                 activation=\"relu\"))\n",
    "model.add(tf.keras.layers.BatchNormalization())\n",
    "\n",
    "model.add(tf.keras.layers.Conv2D(256,\n",
    "                                 kernel_size=(3,3),\n",
    "                                 strides=(1,1),\n",
    "                                 padding=\"same\",\n",
    "                                 activation=\"relu\"))\n",
    "model.add(tf.keras.layers.BatchNormalization())\n",
    "\n",
    "\n",
    "model.add(tf.keras.layers.MaxPooling2D((2,2)))\n",
    "model.add( tf.keras.layers.Dropout(0.35))"
   ]
  },
  {
   "cell_type": "code",
   "execution_count": 13,
   "id": "14be6cb4",
   "metadata": {
    "execution": {
     "iopub.execute_input": "2022-09-26T12:39:18.579100Z",
     "iopub.status.busy": "2022-09-26T12:39:18.577339Z",
     "iopub.status.idle": "2022-09-26T12:39:18.638204Z",
     "shell.execute_reply": "2022-09-26T12:39:18.637366Z"
    },
    "papermill": {
     "duration": 0.07206,
     "end_time": "2022-09-26T12:39:18.640379",
     "exception": false,
     "start_time": "2022-09-26T12:39:18.568319",
     "status": "completed"
    },
    "tags": []
   },
   "outputs": [],
   "source": [
    "# Add the dense layer and dropout layer\n",
    "model.add(tf.keras.layers.Flatten())\n",
    "model.add(tf.keras.layers.Dense(512, activation=\"relu\"))\n",
    "model.add(tf.keras.layers.BatchNormalization())\n",
    "model.add( tf.keras.layers.Dropout(0.5))\n",
    "\n",
    "model.add(tf.keras.layers.Flatten())\n",
    "model.add(tf.keras.layers.Dense(1028, activation=\"relu\"))\n",
    "model.add(tf.keras.layers.BatchNormalization())\n",
    "model.add( tf.keras.layers.Dropout(0.5))"
   ]
  },
  {
   "cell_type": "code",
   "execution_count": 14,
   "id": "a8e3db52",
   "metadata": {
    "execution": {
     "iopub.execute_input": "2022-09-26T12:39:18.656920Z",
     "iopub.status.busy": "2022-09-26T12:39:18.656656Z",
     "iopub.status.idle": "2022-09-26T12:39:18.669605Z",
     "shell.execute_reply": "2022-09-26T12:39:18.668689Z"
    },
    "papermill": {
     "duration": 0.023822,
     "end_time": "2022-09-26T12:39:18.671712",
     "exception": false,
     "start_time": "2022-09-26T12:39:18.647890",
     "status": "completed"
    },
    "tags": []
   },
   "outputs": [],
   "source": [
    "# Add the output layer\n",
    "model.add(tf.keras.layers.Dense(10, activation=\"softmax\"))"
   ]
  },
  {
   "cell_type": "code",
   "execution_count": 15,
   "id": "b57fcb74",
   "metadata": {
    "execution": {
     "iopub.execute_input": "2022-09-26T12:39:18.688432Z",
     "iopub.status.busy": "2022-09-26T12:39:18.688163Z",
     "iopub.status.idle": "2022-09-26T12:39:18.700214Z",
     "shell.execute_reply": "2022-09-26T12:39:18.699359Z"
    },
    "papermill": {
     "duration": 0.022376,
     "end_time": "2022-09-26T12:39:18.702210",
     "exception": false,
     "start_time": "2022-09-26T12:39:18.679834",
     "status": "completed"
    },
    "tags": []
   },
   "outputs": [],
   "source": [
    "# Compile the model\n",
    "model.compile(optimizer=\"adam\",\n",
    "              loss=\"sparse_categorical_crossentropy\",\n",
    "              metrics=[\"accuracy\"])"
   ]
  },
  {
   "cell_type": "code",
   "execution_count": 16,
   "id": "cf6a847f",
   "metadata": {
    "execution": {
     "iopub.execute_input": "2022-09-26T12:39:18.718672Z",
     "iopub.status.busy": "2022-09-26T12:39:18.718353Z",
     "iopub.status.idle": "2022-09-26T12:39:19.469390Z",
     "shell.execute_reply": "2022-09-26T12:39:19.467127Z"
    },
    "papermill": {
     "duration": 0.766547,
     "end_time": "2022-09-26T12:39:19.476403",
     "exception": false,
     "start_time": "2022-09-26T12:39:18.709856",
     "status": "completed"
    },
    "tags": []
   },
   "outputs": [],
   "source": [
    "from sklearn.preprocessing import LabelEncoder\n",
    "encoder = LabelEncoder()\n",
    "y_train = encoder.fit_transform(y_train)\n",
    "y_val = encoder.fit_transform(y_val)"
   ]
  },
  {
   "cell_type": "code",
   "execution_count": 17,
   "id": "e0ed0fb5",
   "metadata": {
    "execution": {
     "iopub.execute_input": "2022-09-26T12:39:19.533528Z",
     "iopub.status.busy": "2022-09-26T12:39:19.533020Z",
     "iopub.status.idle": "2022-09-26T12:39:19.544046Z",
     "shell.execute_reply": "2022-09-26T12:39:19.542726Z"
    },
    "papermill": {
     "duration": 0.035258,
     "end_time": "2022-09-26T12:39:19.548311",
     "exception": false,
     "start_time": "2022-09-26T12:39:19.513053",
     "status": "completed"
    },
    "tags": []
   },
   "outputs": [
    {
     "data": {
      "text/plain": [
       "6"
      ]
     },
     "execution_count": 17,
     "metadata": {},
     "output_type": "execute_result"
    }
   ],
   "source": [
    "y_train[0]"
   ]
  },
  {
   "cell_type": "code",
   "execution_count": 18,
   "id": "51833d6b",
   "metadata": {
    "execution": {
     "iopub.execute_input": "2022-09-26T12:39:19.580714Z",
     "iopub.status.busy": "2022-09-26T12:39:19.580354Z",
     "iopub.status.idle": "2022-09-26T12:39:19.857489Z",
     "shell.execute_reply": "2022-09-26T12:39:19.856339Z"
    },
    "papermill": {
     "duration": 0.293764,
     "end_time": "2022-09-26T12:39:19.860022",
     "exception": false,
     "start_time": "2022-09-26T12:39:19.566258",
     "status": "completed"
    },
    "tags": []
   },
   "outputs": [],
   "source": [
    "x_train = np.asarray(x_train).astype(np.float32)\n",
    "x_val = np.asarray(x_val).astype(np.float32)"
   ]
  },
  {
   "cell_type": "code",
   "execution_count": 19,
   "id": "74cb3b1d",
   "metadata": {
    "execution": {
     "iopub.execute_input": "2022-09-26T12:39:19.887801Z",
     "iopub.status.busy": "2022-09-26T12:39:19.887448Z",
     "iopub.status.idle": "2022-09-26T12:51:14.456876Z",
     "shell.execute_reply": "2022-09-26T12:51:14.455779Z"
    },
    "papermill": {
     "duration": 714.585412,
     "end_time": "2022-09-26T12:51:14.459197",
     "exception": false,
     "start_time": "2022-09-26T12:39:19.873785",
     "status": "completed"
    },
    "tags": []
   },
   "outputs": [
    {
     "name": "stderr",
     "output_type": "stream",
     "text": [
      "2022-09-26 12:39:20.905986: I tensorflow/compiler/mlir/mlir_graph_optimization_pass.cc:185] None of the MLIR Optimization Passes are enabled (registered 2)\n"
     ]
    },
    {
     "name": "stdout",
     "output_type": "stream",
     "text": [
      "Epoch 1/50\n"
     ]
    },
    {
     "name": "stderr",
     "output_type": "stream",
     "text": [
      "2022-09-26 12:39:23.210703: I tensorflow/stream_executor/cuda/cuda_dnn.cc:369] Loaded cuDNN version 8005\n"
     ]
    },
    {
     "name": "stdout",
     "output_type": "stream",
     "text": [
      "1250/1250 [==============================] - 23s 12ms/step - loss: 1.9230 - accuracy: 0.3806 - val_loss: 1.5864 - val_accuracy: 0.4824\n",
      "Epoch 2/50\n",
      "1250/1250 [==============================] - 14s 11ms/step - loss: 1.1706 - accuracy: 0.5913 - val_loss: 0.9669 - val_accuracy: 0.6694\n",
      "Epoch 3/50\n",
      "1250/1250 [==============================] - 14s 11ms/step - loss: 0.9461 - accuracy: 0.6772 - val_loss: 0.8826 - val_accuracy: 0.7048\n",
      "Epoch 4/50\n",
      "1250/1250 [==============================] - 14s 11ms/step - loss: 0.8109 - accuracy: 0.7241 - val_loss: 1.0006 - val_accuracy: 0.6763\n",
      "Epoch 5/50\n",
      "1250/1250 [==============================] - 14s 11ms/step - loss: 0.7251 - accuracy: 0.7570 - val_loss: 0.9842 - val_accuracy: 0.7307\n",
      "Epoch 6/50\n",
      "1250/1250 [==============================] - 14s 11ms/step - loss: 0.6305 - accuracy: 0.7889 - val_loss: 1.3693 - val_accuracy: 0.6732\n",
      "Epoch 7/50\n",
      "1250/1250 [==============================] - 14s 11ms/step - loss: 0.5616 - accuracy: 0.8120 - val_loss: 0.6880 - val_accuracy: 0.7755\n",
      "Epoch 8/50\n",
      "1250/1250 [==============================] - 14s 11ms/step - loss: 0.4823 - accuracy: 0.8382 - val_loss: 0.6269 - val_accuracy: 0.7911\n",
      "Epoch 9/50\n",
      "1250/1250 [==============================] - 14s 11ms/step - loss: 0.4225 - accuracy: 0.8580 - val_loss: 0.6160 - val_accuracy: 0.8009\n",
      "Epoch 10/50\n",
      "1250/1250 [==============================] - 14s 11ms/step - loss: 0.3670 - accuracy: 0.8750 - val_loss: 0.5174 - val_accuracy: 0.8273\n",
      "Epoch 11/50\n",
      "1250/1250 [==============================] - 14s 12ms/step - loss: 0.3160 - accuracy: 0.8939 - val_loss: 0.7537 - val_accuracy: 0.7698\n",
      "Epoch 12/50\n",
      "1250/1250 [==============================] - 14s 11ms/step - loss: 0.2817 - accuracy: 0.9053 - val_loss: 0.6431 - val_accuracy: 0.8027\n",
      "Epoch 13/50\n",
      "1250/1250 [==============================] - 14s 11ms/step - loss: 0.2408 - accuracy: 0.9164 - val_loss: 0.5648 - val_accuracy: 0.8313\n",
      "Epoch 14/50\n",
      "1250/1250 [==============================] - 14s 11ms/step - loss: 0.2087 - accuracy: 0.9284 - val_loss: 0.5914 - val_accuracy: 0.8302\n",
      "Epoch 15/50\n",
      "1250/1250 [==============================] - 14s 11ms/step - loss: 0.1976 - accuracy: 0.9344 - val_loss: 0.6249 - val_accuracy: 0.8210\n",
      "Epoch 16/50\n",
      "1250/1250 [==============================] - 14s 11ms/step - loss: 0.1703 - accuracy: 0.9421 - val_loss: 0.6847 - val_accuracy: 0.8074\n",
      "Epoch 17/50\n",
      "1250/1250 [==============================] - 14s 11ms/step - loss: 0.1547 - accuracy: 0.9459 - val_loss: 0.6057 - val_accuracy: 0.8353\n",
      "Epoch 18/50\n",
      "1250/1250 [==============================] - 14s 11ms/step - loss: 0.1477 - accuracy: 0.9503 - val_loss: 0.5829 - val_accuracy: 0.8380\n",
      "Epoch 19/50\n",
      "1250/1250 [==============================] - 14s 11ms/step - loss: 0.1269 - accuracy: 0.9566 - val_loss: 0.6109 - val_accuracy: 0.8425\n",
      "Epoch 20/50\n",
      "1250/1250 [==============================] - 14s 11ms/step - loss: 0.1207 - accuracy: 0.9602 - val_loss: 0.6676 - val_accuracy: 0.8253\n",
      "Epoch 21/50\n",
      "1250/1250 [==============================] - 14s 11ms/step - loss: 0.1135 - accuracy: 0.9610 - val_loss: 0.6960 - val_accuracy: 0.8322\n",
      "Epoch 22/50\n",
      "1250/1250 [==============================] - 14s 11ms/step - loss: 0.1136 - accuracy: 0.9609 - val_loss: 0.6117 - val_accuracy: 0.8379\n",
      "Epoch 23/50\n",
      "1250/1250 [==============================] - 14s 11ms/step - loss: 0.0958 - accuracy: 0.9676 - val_loss: 0.6884 - val_accuracy: 0.8380\n",
      "Epoch 24/50\n",
      "1250/1250 [==============================] - 14s 11ms/step - loss: 0.0945 - accuracy: 0.9688 - val_loss: 0.7074 - val_accuracy: 0.8348\n",
      "Epoch 25/50\n",
      "1250/1250 [==============================] - 14s 11ms/step - loss: 0.0903 - accuracy: 0.9700 - val_loss: 0.6736 - val_accuracy: 0.8458\n",
      "Epoch 26/50\n",
      "1250/1250 [==============================] - 14s 12ms/step - loss: 0.0853 - accuracy: 0.9717 - val_loss: 0.6321 - val_accuracy: 0.8524\n",
      "Epoch 27/50\n",
      "1250/1250 [==============================] - 14s 11ms/step - loss: 0.0832 - accuracy: 0.9715 - val_loss: 0.6947 - val_accuracy: 0.8387\n",
      "Epoch 28/50\n",
      "1250/1250 [==============================] - 14s 11ms/step - loss: 0.0813 - accuracy: 0.9729 - val_loss: 0.6453 - val_accuracy: 0.8491\n",
      "Epoch 29/50\n",
      "1250/1250 [==============================] - 14s 11ms/step - loss: 0.0731 - accuracy: 0.9749 - val_loss: 0.6886 - val_accuracy: 0.8424\n",
      "Epoch 30/50\n",
      "1250/1250 [==============================] - 14s 11ms/step - loss: 0.0743 - accuracy: 0.9752 - val_loss: 0.7020 - val_accuracy: 0.8367\n",
      "Epoch 31/50\n",
      "1250/1250 [==============================] - 14s 11ms/step - loss: 0.0678 - accuracy: 0.9769 - val_loss: 0.6739 - val_accuracy: 0.8509\n",
      "Epoch 32/50\n",
      "1250/1250 [==============================] - 14s 11ms/step - loss: 0.0670 - accuracy: 0.9776 - val_loss: 0.6322 - val_accuracy: 0.8540\n",
      "Epoch 33/50\n",
      "1250/1250 [==============================] - 14s 11ms/step - loss: 0.0619 - accuracy: 0.9794 - val_loss: 0.7254 - val_accuracy: 0.8399\n",
      "Epoch 34/50\n",
      "1250/1250 [==============================] - 14s 11ms/step - loss: 0.0634 - accuracy: 0.9787 - val_loss: 0.7309 - val_accuracy: 0.8386\n",
      "Epoch 35/50\n",
      "1250/1250 [==============================] - 14s 11ms/step - loss: 0.0551 - accuracy: 0.9815 - val_loss: 0.6681 - val_accuracy: 0.8557\n",
      "Epoch 36/50\n",
      "1250/1250 [==============================] - 14s 11ms/step - loss: 0.0599 - accuracy: 0.9801 - val_loss: 0.7327 - val_accuracy: 0.8412\n",
      "Epoch 37/50\n",
      "1250/1250 [==============================] - 14s 11ms/step - loss: 0.0545 - accuracy: 0.9822 - val_loss: 0.6905 - val_accuracy: 0.8506\n",
      "Epoch 38/50\n",
      "1250/1250 [==============================] - 14s 11ms/step - loss: 0.0562 - accuracy: 0.9813 - val_loss: 0.7026 - val_accuracy: 0.8525\n",
      "Epoch 39/50\n",
      "1250/1250 [==============================] - 14s 11ms/step - loss: 0.0522 - accuracy: 0.9825 - val_loss: 0.6556 - val_accuracy: 0.8583\n",
      "Epoch 40/50\n",
      "1250/1250 [==============================] - 14s 11ms/step - loss: 0.0497 - accuracy: 0.9835 - val_loss: 0.8602 - val_accuracy: 0.8311\n",
      "Epoch 41/50\n",
      "1250/1250 [==============================] - 14s 11ms/step - loss: 0.0524 - accuracy: 0.9829 - val_loss: 0.6990 - val_accuracy: 0.8531\n",
      "Epoch 42/50\n",
      "1250/1250 [==============================] - 14s 11ms/step - loss: 0.0497 - accuracy: 0.9836 - val_loss: 0.7356 - val_accuracy: 0.8490\n",
      "Epoch 43/50\n",
      "1250/1250 [==============================] - 14s 11ms/step - loss: 0.0439 - accuracy: 0.9857 - val_loss: 0.7311 - val_accuracy: 0.8571\n",
      "Epoch 44/50\n",
      "1250/1250 [==============================] - 14s 11ms/step - loss: 0.0440 - accuracy: 0.9852 - val_loss: 0.7417 - val_accuracy: 0.8528\n",
      "Epoch 45/50\n",
      "1250/1250 [==============================] - 14s 11ms/step - loss: 0.0480 - accuracy: 0.9846 - val_loss: 0.7137 - val_accuracy: 0.8543\n",
      "Epoch 46/50\n",
      "1250/1250 [==============================] - 14s 11ms/step - loss: 0.0418 - accuracy: 0.9863 - val_loss: 0.7066 - val_accuracy: 0.8595\n",
      "Epoch 47/50\n",
      "1250/1250 [==============================] - 14s 11ms/step - loss: 0.0386 - accuracy: 0.9877 - val_loss: 0.7669 - val_accuracy: 0.8506\n",
      "Epoch 48/50\n",
      "1250/1250 [==============================] - 14s 11ms/step - loss: 0.0418 - accuracy: 0.9862 - val_loss: 0.7570 - val_accuracy: 0.8541\n",
      "Epoch 49/50\n",
      "1250/1250 [==============================] - 14s 11ms/step - loss: 0.0396 - accuracy: 0.9863 - val_loss: 0.7323 - val_accuracy: 0.8572\n",
      "Epoch 50/50\n",
      "1250/1250 [==============================] - 14s 11ms/step - loss: 0.0411 - accuracy: 0.9869 - val_loss: 0.7812 - val_accuracy: 0.8515\n"
     ]
    }
   ],
   "source": [
    "results = model.fit(x_train, y_train, epochs=50,\n",
    "                    validation_data=(x_val, y_val))"
   ]
  },
  {
   "cell_type": "code",
   "execution_count": 20,
   "id": "44564d9f",
   "metadata": {
    "execution": {
     "iopub.execute_input": "2022-09-26T12:51:15.847825Z",
     "iopub.status.busy": "2022-09-26T12:51:15.847377Z",
     "iopub.status.idle": "2022-09-26T12:51:16.058583Z",
     "shell.execute_reply": "2022-09-26T12:51:16.057709Z"
    },
    "papermill": {
     "duration": 0.916234,
     "end_time": "2022-09-26T12:51:16.060544",
     "exception": false,
     "start_time": "2022-09-26T12:51:15.144310",
     "status": "completed"
    },
    "tags": []
   },
   "outputs": [
    {
     "data": {
      "image/png": "[encoded data removed]",
      "text/plain": [
       "<Figure size 432x288 with 1 Axes>"
      ]
     },
     "metadata": {
      "needs_background": "light"
     },
     "output_type": "display_data"
    }
   ],
   "source": [
    "# Plot the the training loss\n",
    "plt.plot(results.history[\"loss\"], label=\"loss\")\n",
    "\n",
    "# Plot the the validation loss\n",
    "plt.plot(results.history[\"val_loss\"], label=\"val_loss\")\n",
    "\n",
    "# Name the x and y axises\n",
    "plt.xlabel(\"epochs\")\n",
    "plt.ylabel(\"Loss\")\n",
    "# Put legend table\n",
    "plt.legend()\n",
    "plt.grid()\n",
    "# Show the plot\n",
    "plt.show()"
   ]
  },
  {
   "cell_type": "code",
   "execution_count": 21,
   "id": "da86e974",
   "metadata": {
    "execution": {
     "iopub.execute_input": "2022-09-26T12:51:17.451126Z",
     "iopub.status.busy": "2022-09-26T12:51:17.450763Z",
     "iopub.status.idle": "2022-09-26T12:51:17.715715Z",
     "shell.execute_reply": "2022-09-26T12:51:17.713955Z"
    },
    "papermill": {
     "duration": 0.996139,
     "end_time": "2022-09-26T12:51:17.719653",
     "exception": false,
     "start_time": "2022-09-26T12:51:16.723514",
     "status": "completed"
    },
    "tags": []
   },
   "outputs": [
    {
     "data": {
      "image/png": "[encoded data removed]",
      "text/plain": [
       "<Figure size 432x288 with 1 Axes>"
      ]
     },
     "metadata": {
      "needs_background": "light"
     },
     "output_type": "display_data"
    }
   ],
   "source": [
    "# Plot the the training accuracy\n",
    "plt.plot(results.history[\"accuracy\"], label=\"accuracy\")\n",
    "\n",
    "# Plot the the validation accuracy\n",
    "plt.plot(results.history[\"val_accuracy\"], label=\"val_accuracy\")\n",
    "\n",
    "# Name the x and y axises\n",
    "plt.xlabel(\"epochs\")\n",
    "plt.ylabel(\"Accuracy\")\n",
    "# Put legend table\n",
    "plt.legend()\n",
    "plt.grid()\n",
    "# Show the plot\n",
    "plt.show()"
   ]
  },
  {
   "cell_type": "code",
   "execution_count": 22,
   "id": "04cc0aac",
   "metadata": {
    "execution": {
     "iopub.execute_input": "2022-09-26T12:51:19.781885Z",
     "iopub.status.busy": "2022-09-26T12:51:19.781518Z",
     "iopub.status.idle": "2022-09-26T13:05:06.083987Z",
     "shell.execute_reply": "2022-09-26T13:05:06.082805Z"
    },
    "papermill": {
     "duration": 827.478159,
     "end_time": "2022-09-26T13:05:06.566232",
     "exception": false,
     "start_time": "2022-09-26T12:51:19.088073",
     "status": "completed"
    },
    "tags": []
   },
   "outputs": [
    {
     "name": "stdout",
     "output_type": "stream",
     "text": [
      "Found 300000 images belonging to 1 classes.\n"
     ]
    }
   ],
   "source": [
    "import shutil\n",
    "from py7zr import unpack_7zarchive\n",
    "shutil.register_unpack_format('7zip',['.7z'],unpack_7zarchive)\n",
    "shutil.unpack_archive('/kaggle/input/cifar-10/test.7z','/kaggle/temp/test')\n",
    "shutil.unregister_unpack_format('7zip')\n",
    "test_datagen = tf.keras.preprocessing.image.ImageDataGenerator(rescale=1./255)\n",
    "\n",
    "test_gen = test_datagen.flow_from_directory(directory='/kaggle/temp/test',target_size=(32,32),batch_size=64,class_mode=None,shuffle=False)"
   ]
  },
  {
   "cell_type": "code",
   "execution_count": 23,
   "id": "7f52c1cc",
   "metadata": {
    "execution": {
     "iopub.execute_input": "2022-09-26T13:05:07.851806Z",
     "iopub.status.busy": "2022-09-26T13:05:07.851444Z",
     "iopub.status.idle": "2022-09-26T13:06:38.310996Z",
     "shell.execute_reply": "2022-09-26T13:06:38.310034Z"
    },
    "papermill": {
     "duration": 91.107027,
     "end_time": "2022-09-26T13:06:38.313692",
     "exception": false,
     "start_time": "2022-09-26T13:05:07.206665",
     "status": "completed"
    },
    "tags": []
   },
   "outputs": [],
   "source": [
    "test_gen.reset()\n",
    "predictions_vecs = model.predict(test_gen)\n",
    "\n",
    "predictions_final = np.argmax(predictions_vecs, axis=1)"
   ]
  },
  {
   "cell_type": "code",
   "execution_count": 24,
   "id": "67195440",
   "metadata": {
    "execution": {
     "iopub.execute_input": "2022-09-26T13:06:39.703677Z",
     "iopub.status.busy": "2022-09-26T13:06:39.701718Z",
     "iopub.status.idle": "2022-09-26T13:06:40.112020Z",
     "shell.execute_reply": "2022-09-26T13:06:40.110973Z"
    },
    "papermill": {
     "duration": 1.108808,
     "end_time": "2022-09-26T13:06:40.114536",
     "exception": false,
     "start_time": "2022-09-26T13:06:39.005728",
     "status": "completed"
    },
    "tags": []
   },
   "outputs": [
    {
     "name": "stdout",
     "output_type": "stream",
     "text": [
      "['airplane', 'automobile', 'bird', 'cat', 'deer', 'dog', 'frog', 'horse', 'ship', 'truck']\n"
     ]
    }
   ],
   "source": [
    "cifar10_classes = [\"airplane\", \"automobile\", \"bird\", \"cat\", \"deer\", \"dog\", \"frog\", \"horse\", \"ship\", \"truck\"]\n",
    "print(cifar10_classes)\n",
    "predicted_classes=np.empty(shape=300000,dtype=np.dtype('U20'))\n",
    "\n",
    "ind=0\n",
    "for i in predictions_final.tolist():\n",
    "    predicted_classes[ind]=cifar10_classes[i]\n",
    "    ind=ind+1\n",
    "    \n",
    "filenames_wo_ext = []\n",
    "for fname in test_gen.filenames:\n",
    "    filenames_wo_ext.append(int(fname.split(sep=\"/\")[1].split(sep=\".\")[0])-1)\n",
    "\n",
    "predicted_classes_final = np.empty(shape=300000,dtype=np.dtype('U20'))\n",
    "predicted_classes_final[filenames_wo_ext]=predicted_classes"
   ]
  },
  {
   "cell_type": "code",
   "execution_count": 25,
   "id": "10ac6c84",
   "metadata": {
    "execution": {
     "iopub.execute_input": "2022-09-26T13:06:41.443217Z",
     "iopub.status.busy": "2022-09-26T13:06:41.442039Z",
     "iopub.status.idle": "2022-09-26T13:06:41.855127Z",
     "shell.execute_reply": "2022-09-26T13:06:41.854170Z"
    },
    "papermill": {
     "duration": 1.095905,
     "end_time": "2022-09-26T13:06:41.857416",
     "exception": false,
     "start_time": "2022-09-26T13:06:40.761511",
     "status": "completed"
    },
    "tags": []
   },
   "outputs": [
    {
     "name": "stdout",
     "output_type": "stream",
     "text": [
      "<class 'pandas.core.frame.DataFrame'>\n",
      "RangeIndex: 300000 entries, 0 to 299999\n",
      "Data columns (total 2 columns):\n",
      " #   Column  Non-Null Count   Dtype \n",
      "---  ------  --------------   ----- \n",
      " 0   id      300000 non-null  int64 \n",
      " 1   label   300000 non-null  object\n",
      "dtypes: int64(1), object(1)\n",
      "memory usage: 4.6+ MB\n"
     ]
    }
   ],
   "source": [
    "sub = pd.read_csv('../input/cifar-10/sampleSubmission.csv',header='infer')\n",
    "sub.info()\n",
    "\n",
    "sub['label'] = predicted_classes_final\n",
    "sub.to_csv('submission.csv',index=False)"
   ]
  },
  {
   "cell_type": "code",
   "execution_count": null,
   "id": "436de15d",
   "metadata": {
    "papermill": {
     "duration": 0.695443,
     "end_time": "2022-09-26T13:06:43.419846",
     "exception": false,
     "start_time": "2022-09-26T13:06:42.724403",
     "status": "completed"
    },
    "tags": []
   },
   "outputs": [],
   "source": []
  }
 ],
 "metadata": {
  "kernelspec": {
   "display_name": "Python 3",
   "language": "python",
   "name": "python3"
  },
  "language_info": {
   "codemirror_mode": {
    "name": "ipython",
    "version": 3
   },
   "file_extension": ".py",
   "mimetype": "text/x-python",
   "name": "python",
   "nbconvert_exporter": "python",
   "pygments_lexer": "ipython3",
   "version": "3.7.12"
  },
  "papermill": {
   "default_parameters": {},
   "duration": 1735.193372,
   "end_time": "2022-09-26T13:06:47.792553",
   "environment_variables": {},
   "exception": null,
   "input_path": "__notebook__.ipynb",
   "output_path": "__notebook__.ipynb",
   "parameters": {},
   "start_time": "2022-09-26T12:37:52.599181",
   "version": "2.3.4"
  }
 },
 "nbformat": 4,
 "nbformat_minor": 5
}
